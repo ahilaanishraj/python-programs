{
 "cells": [
  {
   "cell_type": "code",
   "execution_count": 3,
   "id": "dceb5629",
   "metadata": {},
   "outputs": [
    {
     "name": "stdout",
     "output_type": "stream",
     "text": [
      "Subfilelds of AI is:\n",
      "\t Machine Learning\n",
      "\t Deep Learning\n",
      "\t Natural Language Processing\n",
      "\t Speech Processing\n",
      "\t Robotics\n"
     ]
    }
   ],
   "source": [
    "class subfieldinai:\n",
    "    def subfields():\n",
    "        print(\"Subfilelds of AI is:\")\n",
    "        print(\"\\t Machine Learning\")\n",
    "        print(\"\\t Deep Learning\")\n",
    "        print(\"\\t Natural Language Processing\")\n",
    "        print(\"\\t Speech Processing\")\n",
    "        print(\"\\t Robotics\")\n",
    "\n",
    "subfieldinai.subfields()"
   ]
  },
  {
   "cell_type": "code",
   "execution_count": 5,
   "id": "5523340a",
   "metadata": {},
   "outputs": [
    {
     "name": "stdout",
     "output_type": "stream",
     "text": [
      "Enter a number:898\n",
      "898 is even number\n"
     ]
    }
   ],
   "source": [
    "class oddevenclass:\n",
    "    def oddeven(num):\n",
    "        if num%2 == 0:\n",
    "            print(num,\"is even number\")\n",
    "        else:\n",
    "            print(num,\"is odd number\")\n",
    "        \n",
    "n1 = int(input(\"Enter a number:\"))\n",
    "oddevenclass.oddeven(n1)"
   ]
  },
  {
   "cell_type": "code",
   "execution_count": 14,
   "id": "b8c80888",
   "metadata": {},
   "outputs": [
    {
     "name": "stdout",
     "output_type": "stream",
     "text": [
      "Enter your gender:male\n",
      "Enter your age:21\n",
      "your gender: male\n",
      "your Age: 21\n",
      "Not eligible for marriage\n"
     ]
    }
   ],
   "source": [
    "class chkmrgeage:\n",
    "    def eligible(gen,age):\n",
    "        if gen == 'male' and age>=23:\n",
    "            print(\"eligible for marrige\")\n",
    "        elif gen=='female' and age>=21:\n",
    "            print(\" eligible for marrige\")\n",
    "        else:\n",
    "            print(\"Not eligible for marriage\")\n",
    "            \n",
    "gen = input(\"Enter your gender:\")        \n",
    "age = int(input(\"Enter your age:\"))\n",
    "\n",
    "print(\"your gender:\", gen)\n",
    "print(\"your Age:\", age)\n",
    "chkmrgeage.eligible(gen,age)\n",
    "            "
   ]
  },
  {
   "cell_type": "code",
   "execution_count": 25,
   "id": "d66e8e99",
   "metadata": {},
   "outputs": [
    {
     "name": "stdout",
     "output_type": "stream",
     "text": [
      "Enter your reno234\n",
      "Enter mark167\n",
      "Enter mark288\n",
      "Enter mark 378\n",
      "Enter mark 489\n",
      "Enter mark589\n",
      "\n",
      "\n",
      "\n",
      "Renno: 234\n",
      "Subject1 mark: 67\n",
      "Subject2 mark: 88\n",
      "Subject3 mark: 78\n",
      "Subject4 mark: 89\n",
      "Subject5 mark: 89\n",
      "Total: 411\n",
      "Percentage: 82.2\n"
     ]
    }
   ],
   "source": [
    "class marksheet:\n",
    "    \n",
    "        \n",
    "    def input_details():\n",
    "        regno = int(input(\"Enter your reno\"))\n",
    "        sub1 = int(input(\"Enter mark1\"))\n",
    "        sub2 = int(input(\"Enter mark2\"))\n",
    "        sub3 = int(input(\"Enter mark 3\"))\n",
    "        sub4 = int(input(\"Enter mark 4\"))\n",
    "        sub5 = int(input(\"Enter mark5\"))\n",
    "        return regno,sub1,sub2,sub3,sub4,sub5\n",
    "    \n",
    "    def calc():\n",
    "        r, m1,m2,m3,m4,m5 = marksheet.input_details()\n",
    "        tot= m1 +m2 +m3+m4+m5\n",
    "        per = tot/5\n",
    "        print(\"\\n\\n\")\n",
    "        print(\"Renno:\", r)\n",
    "        print(\"Subject1 mark:\", m1)\n",
    "        print(\"Subject2 mark:\", m2)\n",
    "        print(\"Subject3 mark:\", m3)\n",
    "        print(\"Subject4 mark:\", m4)\n",
    "        print(\"Subject5 mark:\", m5)\n",
    "        print(\"Total:\",tot)\n",
    "        print(\"Percentage:\",per)\n",
    "   \n",
    "        \n",
    "marksheet.calc()"
   ]
  },
  {
   "cell_type": "code",
   "execution_count": 28,
   "id": "933e30b9",
   "metadata": {},
   "outputs": [
    {
     "name": "stdout",
     "output_type": "stream",
     "text": [
      "Enter student name: 55\n",
      "Enter roll number: 788\n",
      "Enter marks for subject 1: 78\n",
      "Enter marks for subject 2: 89\n",
      "Enter marks for subject 3: 90\n",
      "Enter marks for subject 4: 89\n",
      "Enter marks for subject 5: 78\n",
      "Name: 55\n",
      "Roll Number: 788\n",
      "Marks Obtained:\n",
      "Subject 1: 78\n",
      "Subject 2: 89\n",
      "Subject 3: 90\n",
      "Subject 4: 89\n",
      "Subject 5: 78\n",
      "Total: 424\n",
      "Percentage: 84.8\n",
      "Grade: A\n"
     ]
    }
   ],
   "source": []
  },
  {
   "cell_type": "code",
   "execution_count": 29,
   "id": "975f5085",
   "metadata": {},
   "outputs": [
    {
     "name": "stdout",
     "output_type": "stream",
     "text": [
      "Enter student name: ahila\n",
      "Enter roll number: 1111\n",
      "Enter marks for subject 1: 89\n",
      "Enter marks for subject 2: 99\n",
      "Enter marks for subject 3: 78\n",
      "Enter marks for subject 4: 67\n",
      "Enter marks for subject 5: 99\n",
      "Name: ahila\n",
      "Roll Number: 1111\n",
      "Marks Obtained:\n",
      "Subject 1: 89\n",
      "Subject 2: 99\n",
      "Subject 3: 78\n",
      "Subject 4: 67\n",
      "Subject 5: 99\n",
      "Total: 432\n",
      "Percentage: 86.4\n",
      "Grade: A\n"
     ]
    }
   ],
   "source": [
    "class Student:\n",
    "    def __init__(self, name, roll_number, marks):\n",
    "        self.name = name\n",
    "        self.roll_number = roll_number\n",
    "        self.marks = marks\n",
    "\n",
    "    def calculate_total(self):\n",
    "        total = sum(self.marks)\n",
    "        return total\n",
    "\n",
    "    def calculate_percentage(self):\n",
    "        total = self.calculate_total()\n",
    "        percentage = (total / 500) * 100\n",
    "        return percentage\n",
    "\n",
    "    def calculate_grade(self):\n",
    "        percentage = self.calculate_percentage()\n",
    "        if percentage >= 90:\n",
    "            grade = \"A+\"\n",
    "        elif percentage >= 80:\n",
    "            grade = \"A\"\n",
    "        elif percentage >= 70:\n",
    "            grade = \"B+\"\n",
    "        elif percentage >= 60:\n",
    "            grade = \"B\"\n",
    "        elif percentage >= 50:\n",
    "            grade = \"C+\"\n",
    "        elif percentage >= 40:\n",
    "            grade = \"C\"\n",
    "        else:\n",
    "            grade = \"Fail\"\n",
    "        return grade\n",
    "\n",
    "    def display_student_details(self):\n",
    "        print(\"Name:\", self.name)\n",
    "        print(\"Roll Number:\", self.roll_number)\n",
    "        print(\"Marks Obtained:\")\n",
    "        for i in range(5):\n",
    "            print(\"Subject {}: {}\".format(i+1, self.marks[i]))\n",
    "        print(\"Total:\", self.calculate_total())\n",
    "        print(\"Percentage:\", self.calculate_percentage())\n",
    "        print(\"Grade:\", self.calculate_grade())\n",
    "\n",
    "def main():\n",
    "    name = input(\"Enter student name: \")\n",
    "    roll_number = input(\"Enter roll number: \")\n",
    "    marks = []\n",
    "    for i in range(5):\n",
    "        subject_mark = int(input(\"Enter marks for subject {}: \".format(i+1)))\n",
    "        marks.append(subject_mark)\n",
    "    student = Student(name, roll_number, marks)\n",
    "    student.display_student_details()\n",
    "\n",
    "if __name__ == '__main__':\n",
    "    main()"
   ]
  },
  {
   "cell_type": "code",
   "execution_count": 30,
   "id": "f4dfde2c",
   "metadata": {},
   "outputs": [
    {
     "name": "stdout",
     "output_type": "stream",
     "text": [
      "Enter height of trianggle:12\n",
      "Enter breath of trianggle:45\n",
      "Area of Triangle:\n",
      "\t height triagle:  12\n",
      "\t breadth of triangle:  45\n",
      "\t Area of triangle: 270.0\n",
      "\n",
      "\n",
      "\n",
      "Enter height1 of trianggle:78\n",
      "Enter height2 of trianggle:45\n",
      "Enter breath of trianggle:45\n",
      "Perimeter of Triangle:\n",
      "\t height1 triagle:  78\n",
      "\t height2 triagle:  45\n",
      "\t breadth of triangle:  45\n",
      "\t Perimeter of triangle: 168\n"
     ]
    }
   ],
   "source": [
    "class triangle:\n",
    "    def area():\n",
    "        h = int(input(\"Enter height of trianggle:\"))\n",
    "        b = int(input(\"Enter breath of trianggle:\"))\n",
    "        area = (h*b)/2\n",
    "        print(\"Area of Triangle:\")\n",
    "        print(\"\\t height triagle: \", h)\n",
    "        print(\"\\t breadth of triangle: \", b)\n",
    "        print(\"\\t Area of triangle:\", area)\n",
    "\n",
    "    def perimeter():\n",
    "        h1 = int(input(\"Enter height1 of trianggle:\"))\n",
    "        h2 = int(input(\"Enter height2 of trianggle:\"))\n",
    "        b = int(input(\"Enter breath of trianggle:\"))\n",
    "        area = h1+h2+b\n",
    "\n",
    "        print(\"Perimeter of Triangle:\")\n",
    "        print(\"\\t height1 triagle: \", h1)\n",
    "        print(\"\\t height2 triagle: \", h2)\n",
    "        print(\"\\t breadth of triangle: \", b)\n",
    "        print(\"\\t Perimeter of triangle:\", area)\n",
    "    \n",
    "triangle.area()\n",
    "print(\"\\n\\n\")\n",
    "triangle.perimeter()"
   ]
  },
  {
   "cell_type": "code",
   "execution_count": null,
   "id": "6a7738e1",
   "metadata": {},
   "outputs": [],
   "source": []
  }
 ],
 "metadata": {
  "kernelspec": {
   "display_name": "Python 3 (ipykernel)",
   "language": "python",
   "name": "python3"
  },
  "language_info": {
   "codemirror_mode": {
    "name": "ipython",
    "version": 3
   },
   "file_extension": ".py",
   "mimetype": "text/x-python",
   "name": "python",
   "nbconvert_exporter": "python",
   "pygments_lexer": "ipython3",
   "version": "3.9.13"
  }
 },
 "nbformat": 4,
 "nbformat_minor": 5
}
