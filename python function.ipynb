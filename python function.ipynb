{
 "cells": [
  {
   "cell_type": "code",
   "execution_count": 15,
   "id": "f9acae9d",
   "metadata": {},
   "outputs": [
    {
     "name": "stdout",
     "output_type": "stream",
     "text": [
      "Subfilelds of AI is:\n",
      "\t Machine Learning\n",
      "\t Deep Learning\n",
      "\t Natural Language Processing\n",
      "\t Speech Processing\n",
      "\t Robotics\n"
     ]
    }
   ],
   "source": [
    "# function\n",
    "def subfields():\n",
    "    print(\"Subfilelds of AI is:\")\n",
    "    print(\"\\t Machine Learning\")\n",
    "    print(\"\\t Deep Learning\")\n",
    "    print(\"\\t Natural Language Processing\")\n",
    "    print(\"\\t Speech Processing\")\n",
    "    print(\"\\t Robotics\")\n",
    "\n",
    "subfields()"
   ]
  },
  {
   "cell_type": "code",
   "execution_count": 16,
   "id": "205b4717",
   "metadata": {},
   "outputs": [
    {
     "name": "stdout",
     "output_type": "stream",
     "text": [
      "Enter a number:88\n",
      "88 is even number\n"
     ]
    }
   ],
   "source": [
    "def oddeven(num):\n",
    "    if num%2 == 0:\n",
    "        print(num,\"is even number\")\n",
    "    else:\n",
    "        print(num,\"is odd number\")\n",
    "        \n",
    "n1 = int(input(\"Enter a number:\"))\n",
    "oddeven(n1)"
   ]
  },
  {
   "cell_type": "code",
   "execution_count": 17,
   "id": "0189f711",
   "metadata": {},
   "outputs": [
    {
     "name": "stdout",
     "output_type": "stream",
     "text": [
      "Enter your gender:female\n",
      "Enter your age:89\n",
      "your gender: female\n",
      "your Age: 89\n",
      "You are eligible for vote\n"
     ]
    }
   ],
   "source": [
    "def eligible(age):\n",
    "     if(age >= 18):\n",
    "        print(\"You are eligible for vote\")\n",
    "     else:\n",
    "        print(\"you are not eligible for vote\")\n",
    "        \n",
    "gen = input(\"Enter your gender:\")        \n",
    "age = int(input(\"Enter your age:\"))\n",
    "\n",
    "print(\"your gender:\", gen)\n",
    "print(\"your Age:\", age)\n",
    "eligible(age)"
   ]
  },
  {
   "cell_type": "code",
   "execution_count": null,
   "id": "9a89d170",
   "metadata": {},
   "outputs": [],
   "source": []
  },
  {
   "cell_type": "code",
   "execution_count": 18,
   "id": "ba501765",
   "metadata": {},
   "outputs": [
    {
     "name": "stdout",
     "output_type": "stream",
     "text": [
      "Enter your reno677\n",
      "Enter mark189\n",
      "Enter mark299\n",
      "Enter mark 389\n",
      "Enter mark 478\n",
      "Enter mark567\n",
      "\n",
      "\n",
      "\n",
      "Renno: 677\n",
      "Subject1 mark: 89\n",
      "Subject2 mark: 99\n",
      "Subject3 mark: 89\n",
      "Subject4 mark: 78\n",
      "Subject5 mark: 67\n",
      "Total: 422\n",
      "Percentage: 84.4\n"
     ]
    }
   ],
   "source": [
    "def calc(s1,s2,s3,s4,s5):\n",
    "    tot= s1 +s2 +s3+s4+s5\n",
    "    per = tot/5\n",
    "    return tot,per\n",
    "\n",
    "    \n",
    "regno = int(input(\"Enter your reno\"))\n",
    "sub1 = int(input(\"Enter mark1\"))\n",
    "sub2 = int(input(\"Enter mark2\"))\n",
    "sub3 = int(input(\"Enter mark 3\"))\n",
    "sub4 = int(input(\"Enter mark 4\"))\n",
    "sub5 = int(input(\"Enter mark5\"))\n",
    "\n",
    "print(\"\\n\\n\")\n",
    "print(\"Renno:\", regno)\n",
    "print(\"Subject1 mark:\", sub1)\n",
    "print(\"Subject2 mark:\", sub2)\n",
    "print(\"Subject3 mark:\", sub3)\n",
    "print(\"Subject4 mark:\", sub4)\n",
    "print(\"Subject5 mark:\", sub5)\n",
    "t1, p = calc(sub1,sub2,sub3,sub4,sub5)\n",
    "print(\"Total:\",t1)\n",
    "print(\"Percentage:\",p)\n"
   ]
  },
  {
   "cell_type": "code",
   "execution_count": 14,
   "id": "97889999",
   "metadata": {},
   "outputs": [
    {
     "name": "stdout",
     "output_type": "stream",
     "text": [
      "Enter your reno675\n",
      "Enter mark189\n",
      "Enter mark278\n",
      "Enter mark 387\n",
      "Enter mark 467\n",
      "Enter mark599\n",
      "\n",
      "\n",
      "\n",
      "Renno: 675\n",
      "Subject1 mark: 89\n",
      "Subject2 mark: 78\n",
      "Subject3 mark: 87\n",
      "Subject4 mark: 67\n",
      "Subject5 mark: 99\n",
      "Total: 420\n",
      "Percentage: 84.0\n"
     ]
    }
   ],
   "source": [
    "def input_details():\n",
    "    regno = int(input(\"Enter your reno\"))\n",
    "    sub1 = int(input(\"Enter mark1\"))\n",
    "    sub2 = int(input(\"Enter mark2\"))\n",
    "    sub3 = int(input(\"Enter mark 3\"))\n",
    "    sub4 = int(input(\"Enter mark 4\"))\n",
    "    sub5 = int(input(\"Enter mark5\"))\n",
    "    return regno,sub1,sub2,sub3,sub4,sub5\n",
    "    \n",
    "def calc():\n",
    "    r, m1,m2,m3,m4,m5 = input_details()\n",
    "    tot= m1 +m2 +m3+m4+m5\n",
    "    per = tot/5\n",
    "    print(\"\\n\\n\")\n",
    "    print(\"Renno:\", r)\n",
    "    print(\"Subject1 mark:\", m1)\n",
    "    print(\"Subject2 mark:\", m2)\n",
    "    print(\"Subject3 mark:\", m3)\n",
    "    print(\"Subject4 mark:\", m4)\n",
    "    print(\"Subject5 mark:\", m5)\n",
    "    print(\"Total:\",tot)\n",
    "    print(\"Percentage:\",per)\n",
    "\n",
    "calc()\n"
   ]
  },
  {
   "cell_type": "code",
   "execution_count": 25,
   "id": "f729de01",
   "metadata": {},
   "outputs": [
    {
     "name": "stdout",
     "output_type": "stream",
     "text": [
      "Enter height of trianggle:5\n",
      "Enter breath of trianggle:4\n",
      "Area of Triangle:\n",
      "\t height triagle:  5\n",
      "\t breadth of triangle:  4\n",
      "\t Area of triangle: 10.0\n",
      "\n",
      "\n",
      "\n",
      "Enter height1 of trianggle:6\n",
      "Enter height2 of trianggle:7\n",
      "Enter breath of trianggle:8\n",
      "Perimeter of Triangle:\n",
      "\t height1 triagle:  6\n",
      "\t height2 triagle:  7\n",
      "\t breadth of triangle:  8\n",
      "\t Perimeter of triangle: 21\n"
     ]
    }
   ],
   "source": [
    "def area():\n",
    "    h = int(input(\"Enter height of trianggle:\"))\n",
    "    b = int(input(\"Enter breath of trianggle:\"))\n",
    "    area = (h*b)/2\n",
    "    print(\"Area of Triangle:\")\n",
    "    print(\"\\t height triagle: \", h)\n",
    "    print(\"\\t breadth of triangle: \", b)\n",
    "    print(\"\\t Area of triangle:\", area)\n",
    "\n",
    "def perimeter():\n",
    "    h1 = int(input(\"Enter height1 of trianggle:\"))\n",
    "    h2 = int(input(\"Enter height2 of trianggle:\"))\n",
    "    b = int(input(\"Enter breath of trianggle:\"))\n",
    "    area = h1+h2+b\n",
    " \n",
    "    print(\"Perimeter of Triangle:\")\n",
    "    print(\"\\t height1 triagle: \", h1)\n",
    "    print(\"\\t height2 triagle: \", h2)\n",
    "    print(\"\\t breadth of triangle: \", b)\n",
    "    print(\"\\t Perimeter of triangle:\", area)\n",
    "    \n",
    "area()\n",
    "print(\"\\n\\n\")\n",
    "perimeter()\n"
   ]
  },
  {
   "cell_type": "code",
   "execution_count": null,
   "id": "e6884aba",
   "metadata": {},
   "outputs": [],
   "source": []
  },
  {
   "cell_type": "code",
   "execution_count": null,
   "id": "11e06d4c",
   "metadata": {},
   "outputs": [],
   "source": []
  }
 ],
 "metadata": {
  "kernelspec": {
   "display_name": "Python 3 (ipykernel)",
   "language": "python",
   "name": "python3"
  },
  "language_info": {
   "codemirror_mode": {
    "name": "ipython",
    "version": 3
   },
   "file_extension": ".py",
   "mimetype": "text/x-python",
   "name": "python",
   "nbconvert_exporter": "python",
   "pygments_lexer": "ipython3",
   "version": "3.9.13"
  }
 },
 "nbformat": 4,
 "nbformat_minor": 5
}
