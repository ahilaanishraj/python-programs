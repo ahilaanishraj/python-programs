{
 "cells": [
  {
   "cell_type": "code",
   "execution_count": 1,
   "id": "e6901dd2",
   "metadata": {},
   "outputs": [
    {
     "name": "stdout",
     "output_type": "stream",
     "text": [
      "hello\n"
     ]
    }
   ],
   "source": [
    "print(\"hello\")"
   ]
  },
  {
   "cell_type": "code",
   "execution_count": 2,
   "id": "3ac99f29",
   "metadata": {},
   "outputs": [
    {
     "name": "stdout",
     "output_type": "stream",
     "text": [
      "welcome To Assignment1\n"
     ]
    }
   ],
   "source": [
    "print(\"welcome To Assignment1\")"
   ]
  },
  {
   "cell_type": "code",
   "execution_count": 5,
   "id": "784c3bec",
   "metadata": {},
   "outputs": [
    {
     "name": "stdout",
     "output_type": "stream",
     "text": [
      "Addition: 40\n"
     ]
    }
   ],
   "source": [
    "num1,num2=10,30\n",
    "print(\"Addition:\", num1+num2)"
   ]
  },
  {
   "cell_type": "code",
   "execution_count": 15,
   "id": "697937c5",
   "metadata": {},
   "outputs": [
    {
     "name": "stdout",
     "output_type": "stream",
     "text": [
      "enter weight:67\n",
      "obese class3\n"
     ]
    }
   ],
   "source": [
    "weight = int(input(\"enter weight:\"))\n",
    "if weight<18.5:\n",
    "    print(\"under weight\")\n",
    "elif weight<18.5 or weight<24.9:\n",
    "     print(\"normal weight\")\n",
    "elif weight<25.0 or weight<29.9:\n",
    "    print(\"overweight\")\n",
    "elif weight>=30:\n",
    "    if(weight<30.0 or weight<34.9):\n",
    "        print(\"Obese class1\")\n",
    "    if(weight<35.0 or weight<39.9):\n",
    "        print(\"Obese class2\")\n",
    "    else:\n",
    "        print(\"obese class3\")"
   ]
  },
  {
   "cell_type": "code",
   "execution_count": 16,
   "id": "46cd91de",
   "metadata": {},
   "outputs": [
    {
     "name": "stdout",
     "output_type": "stream",
     "text": [
      "Hope AI\n"
     ]
    }
   ],
   "source": [
    "print(\"Hope AI\")"
   ]
  },
  {
   "cell_type": "code",
   "execution_count": 55,
   "id": "bf3af817",
   "metadata": {
    "scrolled": true
   },
   "outputs": [
    {
     "name": "stdout",
     "output_type": "stream",
     "text": [
      "Enter the Stringas\n"
     ]
    },
    {
     "data": {
      "text/plain": [
       "'as'"
      ]
     },
     "execution_count": 55,
     "metadata": {},
     "output_type": "execute_result"
    }
   ],
   "source": [
    "a = input(\"Enter the String\")\n",
    "a"
   ]
  },
  {
   "cell_type": "raw",
   "id": "1f547a1a",
   "metadata": {},
   "source": []
  },
  {
   "cell_type": "code",
   "execution_count": 18,
   "id": "032b5c61",
   "metadata": {},
   "outputs": [
    {
     "name": "stdout",
     "output_type": "stream",
     "text": [
      "Enter your Name:Ahila\n",
      "enter your age35\n",
      "enter your college nameAVC\n",
      "enter your degreeMCA\n",
      "Name: Ahila\n",
      "Age: 35\n",
      "College Name: AVC\n",
      "Degree: MCA\n"
     ]
    }
   ],
   "source": [
    "name = input(\"Enter your Name:\")\n",
    "age = int(input(\"enter your age\"))\n",
    "clg_name = input(\"enter your college name\")\n",
    "degree = input(\"enter your degree\")\n",
    "print(\"Name:\",name)\n",
    "print(\"Age:\",age)\n",
    "print(\"College Name:\",clg_name)\n",
    "print(\"Degree:\",degree)\n"
   ]
  },
  {
   "cell_type": "code",
   "execution_count": null,
   "id": "4ee67b77",
   "metadata": {},
   "outputs": [],
   "source": []
  },
  {
   "cell_type": "code",
   "execution_count": 22,
   "id": "41232ba1",
   "metadata": {},
   "outputs": [
    {
     "name": "stdout",
     "output_type": "stream",
     "text": [
      "enter first number10\n",
      "enter secong number5\n",
      "Addition of 10 , 5 : 15\n",
      "Subtraction of 10 , 5 : 5\n",
      "multiplication of 10 , 5 : 50\n",
      "division of 10 , 5 : 2.0\n",
      "floor division of 10 , 5 : 2\n",
      "cube of 10 is : 1000\n"
     ]
    }
   ],
   "source": [
    "num1 = int(input(\"enter first number\"))\n",
    "num2 = int(input(\"enter secong number\"))\n",
    "print(\"Addition of\", num1 , \",\", num2 ,\":\", num1+num2)\n",
    "print(\"Subtraction of\", num1 , \",\", num2 ,\":\", num1-num2)\n",
    "print(\"multiplication of\", num1 , \",\", num2 ,\":\", num1*num2)\n",
    "print(\"division of\", num1 , \",\", num2 ,\":\", num1/num2)\n",
    "print(\"floor division of\", num1 , \",\", num2 ,\":\", num1//num2)\n",
    "print(\"cube of\", num1  ,\"is :\", num1**3)"
   ]
  },
  {
   "cell_type": "code",
   "execution_count": 26,
   "id": "6cae14c5",
   "metadata": {},
   "outputs": [
    {
     "name": "stdout",
     "output_type": "stream",
     "text": [
      "0\n",
      "1\n",
      "2\n",
      "3\n",
      "4\n",
      "5\n",
      "6\n",
      "7\n",
      "8\n",
      "9\n",
      "10\n",
      "11\n",
      "12\n",
      "13\n",
      "14\n",
      "15\n",
      "16\n",
      "17\n",
      "18\n",
      "19\n",
      "20\n"
     ]
    }
   ],
   "source": [
    "for i in range(21):\n",
    "    print(i)"
   ]
  },
  {
   "cell_type": "code",
   "execution_count": 27,
   "id": "ba25407a",
   "metadata": {},
   "outputs": [
    {
     "name": "stdout",
     "output_type": "stream",
     "text": [
      "10\n",
      "11\n",
      "12\n",
      "13\n",
      "14\n",
      "15\n",
      "16\n",
      "17\n",
      "18\n",
      "19\n",
      "20\n"
     ]
    }
   ],
   "source": [
    "for i in range(10,21):\n",
    "    print(i)"
   ]
  },
  {
   "cell_type": "code",
   "execution_count": 31,
   "id": "4b92e26f",
   "metadata": {},
   "outputs": [
    {
     "name": "stdout",
     "output_type": "stream",
     "text": [
      "[10, 11, 12, 13, 14, 15, 16, 17, 18, 19, 20]\n",
      "number of item in list a is 11\n"
     ]
    }
   ],
   "source": [
    "a=[]\n",
    "for i in range(10,21):\n",
    "    a.append(i)\n",
    "print(a)\n",
    "print(\"number of item in list a is\",len(a))"
   ]
  },
  {
   "cell_type": "code",
   "execution_count": 57,
   "id": "51a43063",
   "metadata": {},
   "outputs": [
    {
     "name": "stdout",
     "output_type": "stream",
     "text": [
      "A\n",
      "r\n",
      "t\n",
      "i\n",
      "f\n",
      "i\n",
      "c\n",
      "i\n",
      "a\n",
      "l\n",
      " \n",
      "I\n",
      "n\n",
      "t\n",
      "e\n",
      "l\n",
      "l\n",
      "i\n",
      "g\n",
      "e\n",
      "n\n",
      "t\n"
     ]
    }
   ],
   "source": [
    "str = \"Artificial Intelligent\"\n",
    "for i in str:\n",
    "    print(i)"
   ]
  },
  {
   "cell_type": "code",
   "execution_count": 58,
   "id": "dadddc10",
   "metadata": {},
   "outputs": [
    {
     "data": {
      "text/plain": [
       "(1, 'hello', 2, 'welcome')"
      ]
     },
     "execution_count": 58,
     "metadata": {},
     "output_type": "execute_result"
    }
   ],
   "source": [
    "a = (1,\"hello\", 2, \"welcome\")\n",
    "a"
   ]
  },
  {
   "cell_type": "code",
   "execution_count": 59,
   "id": "60960b1b",
   "metadata": {},
   "outputs": [
    {
     "data": {
      "text/plain": [
       "(0, 1, 2, 3, ('hello', 'welcome'))"
      ]
     },
     "execution_count": 59,
     "metadata": {},
     "output_type": "execute_result"
    }
   ],
   "source": [
    "tup1 = (0,1,2,3, ('hello', 'welcome'))\n",
    "tup1"
   ]
  },
  {
   "cell_type": "code",
   "execution_count": 35,
   "id": "652c51ce",
   "metadata": {},
   "outputs": [
    {
     "name": "stdout",
     "output_type": "stream",
     "text": [
      "original list [20, 10, 16, 19, 25, 1, 276, 188]\n",
      "odd number in the list [20, 10, 16, 276, 188]\n",
      "even number in the list [19, 25, 1]\n"
     ]
    }
   ],
   "source": [
    "list1 = [20,10,16,19,25,1,276,188]\n",
    "odd = []\n",
    "even = []\n",
    "for a in list1:\n",
    "    if a%2 == 0:\n",
    "        odd.append(a)\n",
    "    else:\n",
    "        even.append(a)\n",
    "print(\"original list\", list1)\n",
    "print(\"odd number in the list\", odd)\n",
    "print(\"even number in the list\", even)\n",
    "     "
   ]
  },
  {
   "cell_type": "code",
   "execution_count": null,
   "id": "49f2cc32",
   "metadata": {},
   "outputs": [],
   "source": []
  },
  {
   "cell_type": "code",
   "execution_count": 36,
   "id": "9e0ccc4f",
   "metadata": {},
   "outputs": [
    {
     "name": "stdout",
     "output_type": "stream",
     "text": [
      "enter your value89\n",
      "not correct\n"
     ]
    }
   ],
   "source": [
    "val = int(input(\"enter your value\"))\n",
    "if val == 10:\n",
    "    print(\"correct\")\n",
    "else:\n",
    "    print(\"not correct\")"
   ]
  },
  {
   "cell_type": "code",
   "execution_count": null,
   "id": "a2f0952c",
   "metadata": {},
   "outputs": [],
   "source": [
    "password = input(\"enter your password\")\n",
    "if password == 'HOPE@123':\n",
    "     print(\"your password is correct\")\n",
    "else:\n",
    "    print(\"your password is not correct\")"
   ]
  },
  {
   "cell_type": "code",
   "execution_count": 54,
   "id": "9eb44d89",
   "metadata": {},
   "outputs": [
    {
     "name": "stdout",
     "output_type": "stream",
     "text": [
      "enter your age:89\n",
      "Older adults\n"
     ]
    }
   ],
   "source": [
    "age = int(input(\"enter your age:\"))\n",
    "if age<=1:\n",
    "    print(\"infants\")\n",
    "elif age<2 or age<=12:\n",
    "    print(\"children\")\n",
    "elif age<=13 or age<=17:\n",
    "    print(\"Adolescents\")\n",
    "elif age<=18 or age<=60:\n",
    "    print(\"Adults\")\n",
    "else:\n",
    "    print(\"Older adults\")\n",
    "    "
   ]
  },
  {
   "cell_type": "code",
   "execution_count": null,
   "id": "9bdd13f1",
   "metadata": {},
   "outputs": [],
   "source": [
    "val = int(input(\"enter your value\"))\n",
    "if val>0 :\n",
    "    print(\"Positive number\")\n",
    "elif val<0:\n",
    "    print(\"Negative number\")\n",
    "else:\n",
    "    print(\"zero\")"
   ]
  },
  {
   "cell_type": "code",
   "execution_count": 44,
   "id": "3616a65d",
   "metadata": {},
   "outputs": [
    {
     "name": "stdout",
     "output_type": "stream",
     "text": [
      "enter your value56\n",
      "the number is not divisible by 5\n"
     ]
    }
   ],
   "source": [
    "val = int(input(\"enter your value\"))\n",
    "if val%5 == 0:\n",
    "    print(\"the number is divisible by 5\")\n",
    "else:\n",
    "    print(\"the number is not divisible by 5\")"
   ]
  },
  {
   "cell_type": "code",
   "execution_count": null,
   "id": "71e21472",
   "metadata": {},
   "outputs": [],
   "source": []
  }
 ],
 "metadata": {
  "kernelspec": {
   "display_name": "Python 3 (ipykernel)",
   "language": "python",
   "name": "python3"
  },
  "language_info": {
   "codemirror_mode": {
    "name": "ipython",
    "version": 3
   },
   "file_extension": ".py",
   "mimetype": "text/x-python",
   "name": "python",
   "nbconvert_exporter": "python",
   "pygments_lexer": "ipython3",
   "version": "3.9.13"
  }
 },
 "nbformat": 4,
 "nbformat_minor": 5
}
