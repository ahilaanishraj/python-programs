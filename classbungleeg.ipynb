{
 "cells": [
  {
   "cell_type": "code",
   "execution_count": 1,
   "id": "263df50b",
   "metadata": {},
   "outputs": [],
   "source": [
    "from functionbundle import function_bundle\n",
    "\n"
   ]
  },
  {
   "cell_type": "code",
   "execution_count": 2,
   "id": "dd8f408d",
   "metadata": {
    "scrolled": true
   },
   "outputs": [
    {
     "name": "stdout",
     "output_type": "stream",
     "text": [
      "Enter a number:8\n",
      "8 is even number\n"
     ]
    }
   ],
   "source": [
    "\n",
    "function_bundle.oddeven()"
   ]
  },
  {
   "cell_type": "code",
   "execution_count": 34,
   "id": "929d1393",
   "metadata": {},
   "outputs": [],
   "source": [
    " "
   ]
  },
  {
   "cell_type": "code",
   "execution_count": 3,
   "id": "72e41fb9",
   "metadata": {},
   "outputs": [
    {
     "name": "stdout",
     "output_type": "stream",
     "text": [
      "Enter height of trianggle:5\n",
      "Enter breath of trianggle:5\n",
      "Area of Triangle:\n",
      "\t height triagle:  5\n",
      "\t breadth of triangle:  5\n",
      "\t Area of triangle: 12.5\n"
     ]
    }
   ],
   "source": [
    "function_bundle.area()\n"
   ]
  },
  {
   "cell_type": "code",
   "execution_count": 4,
   "id": "fe3f0f8d",
   "metadata": {},
   "outputs": [
    {
     "name": "stdout",
     "output_type": "stream",
     "text": [
      "Enter height1 of trianggle:4\n",
      "Enter height2 of trianggle:5\n",
      "Enter breath of trianggle:7\n",
      "Perimeter of Triangle:\n",
      "\t height1 triagle:  4\n",
      "\t height2 triagle:  5\n",
      "\t breadth of triangle:  7\n",
      "\t Perimeter of triangle: 16\n"
     ]
    }
   ],
   "source": [
    "function_bundle.perimeter()\n"
   ]
  },
  {
   "cell_type": "code",
   "execution_count": 5,
   "id": "ba4a551e",
   "metadata": {},
   "outputs": [
    {
     "name": "stdout",
     "output_type": "stream",
     "text": [
      "Enter a number:8\n",
      "8 is even number\n"
     ]
    }
   ],
   "source": [
    "def oddeven():\n",
    "        n1 = int(input(\"Enter a number:\"))\n",
    "        if  n1 % 2 == 0:\n",
    "            print(n1,\"is even number\")\n",
    "        else:\n",
    "            print(n1,\"is odd number\")\n",
    "oddeven()"
   ]
  },
  {
   "cell_type": "code",
   "execution_count": null,
   "id": "eff0b8a8",
   "metadata": {},
   "outputs": [],
   "source": []
  }
 ],
 "metadata": {
  "kernelspec": {
   "display_name": "Python 3 (ipykernel)",
   "language": "python",
   "name": "python3"
  },
  "language_info": {
   "codemirror_mode": {
    "name": "ipython",
    "version": 3
   },
   "file_extension": ".py",
   "mimetype": "text/x-python",
   "name": "python",
   "nbconvert_exporter": "python",
   "pygments_lexer": "ipython3",
   "version": "3.9.13"
  }
 },
 "nbformat": 4,
 "nbformat_minor": 5
}
